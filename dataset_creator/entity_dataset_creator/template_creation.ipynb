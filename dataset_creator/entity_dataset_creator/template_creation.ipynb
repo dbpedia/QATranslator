{
  "nbformat": 4,
  "nbformat_minor": 0,
  "metadata": {
    "colab": {
      "name": "template_creation.ipynb",
      "provenance": []
    },
    "kernelspec": {
      "name": "python3",
      "display_name": "Python 3"
    }
  },
  "cells": [
    {
      "cell_type": "code",
      "metadata": {
        "id": "AqOYVU8aoccn",
        "colab_type": "code",
        "colab": {}
      },
      "source": [
        "from bs4 import BeautifulSoup\n",
        "import pandas as pd\n",
        "import requests"
      ],
      "execution_count": 393,
      "outputs": []
    },
    {
      "cell_type": "code",
      "metadata": {
        "id": "yC9lGrjaogjD",
        "colab_type": "code",
        "colab": {}
      },
      "source": [
        "def annotateText(text):\n",
        "  # request = \"http://api.dbpedia-spotlight.org/en/annotate?confidence=0.5&text=\"+text\n",
        "  request = \"http://141.57.9.112:2222/rest/annotate?confidence=0.5&text=\"+text\n",
        "  response = requests.get(request)\n",
        "  page_content = BeautifulSoup(response.content,\"html.parser\")\n",
        "  return page_content.find_all('a')"
      ],
      "execution_count": 394,
      "outputs": []
    },
    {
      "cell_type": "code",
      "metadata": {
        "id": "_CNhqOgxo7EX",
        "colab_type": "code",
        "colab": {}
      },
      "source": [
        "def findResource(resource):\n",
        "  query = \"select ?label where {<\" + resource + \"> rdfs:label ?label. filter(lang(?label) = 'es')}\"\n",
        "  request = \"http://dbpedia.org/sparql?default-graph-uri=http%3A%2F%2Fdbpedia.org&query=\"+query+\"&format=application%2Fsparql-results%2Bjson&CXML_redir_for_subjs=121&CXML_redir_for_hrefs=&timeout=30000&debug=on&run=+Run+Query+\"\n",
        "  response = requests.get(request).json()\n",
        "  try:\n",
        "    out = response[\"results\"][\"bindings\"][0][\"label\"][\"value\"]\n",
        "  except IndexError:\n",
        "    out = None\n",
        "  return out"
      ],
      "execution_count": 395,
      "outputs": []
    },
    {
      "cell_type": "code",
      "metadata": {
        "id": "aBDE0s1xogmd",
        "colab_type": "code",
        "colab": {}
      },
      "source": [
        "def getResourceAndEntity(resourceList):\n",
        "  dict = {}\n",
        "  for item in resourceList:\n",
        "    if item==None:\n",
        "      continue\n",
        "    dict[item.text] = item.get('href')\n",
        "  return dict"
      ],
      "execution_count": 396,
      "outputs": []
    },
    {
      "cell_type": "code",
      "metadata": {
        "id": "eqXmf_34cs87",
        "colab_type": "code",
        "colab": {}
      },
      "source": [
        "def getReplacedText(input_text,output_text,dict):\n",
        "\n",
        "  input_text = input_text.lower()\n",
        "  output_text = output_text.lower()\n",
        "\n",
        "  if bool(dict)==False:\n",
        "    return input_text,output_text\n",
        "\n",
        "  count = 0\n",
        "\n",
        "  for entity,resource in dict.items():\n",
        "    input_text = input_text.replace(entity.lower(),\"entity\")\n",
        "    \n",
        "    if entity in output_text:\n",
        "      output_text = output_text.replace(entity.lower(),\"entidad\")\n",
        "    else:\n",
        "      entity = findResource(resource)\n",
        "      if entity!=None:\n",
        "        output_text = output_text.replace(entity.lower(),\"entidad\")\n",
        "    count+=1\n",
        "  return input_text,output_text"
      ],
      "execution_count": 397,
      "outputs": []
    },
    {
      "cell_type": "code",
      "metadata": {
        "id": "NM1vgy9wogpp",
        "colab_type": "code",
        "colab": {}
      },
      "source": [
        "# df=pd.read_csv('/content/drive/My Drive/data/entity_sets/en-es-train.csv')\n",
        "# df=pd.read_csv('/content/drive/My Drive/data/entity_sets/en-es-test.csv')\n",
        "\n",
        "# df=df.dropna(subset=['input_lang','output_lang'])\n",
        "\n",
        "df_1=pd.read_csv('/content/drive/My Drive/data/entity_sets/en-es-train.csv')\n",
        "df_2=pd.read_csv('/content/drive/My Drive/data/entity_sets/en-es-test.csv')\n",
        "frames = [df_1,df_2]\n",
        "df = pd.concat(frames)"
      ],
      "execution_count": 398,
      "outputs": []
    },
    {
      "cell_type": "code",
      "metadata": {
        "id": "GRLP3wJ_Nxt7",
        "colab_type": "code",
        "colab": {}
      },
      "source": [
        "df = df.dropna(subset=['input_lang','output_lang'])\n",
        "df = df.drop_duplicates(subset=['input_lang','output_lang'], keep='first', inplace=False)"
      ],
      "execution_count": 399,
      "outputs": []
    },
    {
      "cell_type": "code",
      "metadata": {
        "id": "0qDcxiHQWfPp",
        "colab_type": "code",
        "colab": {}
      },
      "source": [
        "df_new = df[df.correctly_annotated==1]\n",
        "df_new = df_new.reset_index(drop=True)"
      ],
      "execution_count": 400,
      "outputs": []
    },
    {
      "cell_type": "code",
      "metadata": {
        "id": "9fkbkGWqri3y",
        "colab_type": "code",
        "colab": {
          "base_uri": "https://localhost:8080/",
          "height": 34
        },
        "outputId": "cc387406-1ebc-4ea6-9ae0-13188f01e084"
      },
      "source": [
        "df.shape"
      ],
      "execution_count": 401,
      "outputs": [
        {
          "output_type": "execute_result",
          "data": {
            "text/plain": [
              "(606, 3)"
            ]
          },
          "metadata": {
            "tags": []
          },
          "execution_count": 401
        }
      ]
    },
    {
      "cell_type": "code",
      "metadata": {
        "id": "vOt4CP2saOnf",
        "colab_type": "code",
        "colab": {
          "base_uri": "https://localhost:8080/",
          "height": 669
        },
        "outputId": "aebda2c9-ce1a-4313-ba7f-cd7b6b9103d0"
      },
      "source": [
        "df_new.head(20)"
      ],
      "execution_count": 402,
      "outputs": [
        {
          "output_type": "execute_result",
          "data": {
            "text/html": [
              "<div>\n",
              "<style scoped>\n",
              "    .dataframe tbody tr th:only-of-type {\n",
              "        vertical-align: middle;\n",
              "    }\n",
              "\n",
              "    .dataframe tbody tr th {\n",
              "        vertical-align: top;\n",
              "    }\n",
              "\n",
              "    .dataframe thead th {\n",
              "        text-align: right;\n",
              "    }\n",
              "</style>\n",
              "<table border=\"1\" class=\"dataframe\">\n",
              "  <thead>\n",
              "    <tr style=\"text-align: right;\">\n",
              "      <th></th>\n",
              "      <th>input_lang</th>\n",
              "      <th>output_lang</th>\n",
              "      <th>correctly_annotated</th>\n",
              "    </tr>\n",
              "  </thead>\n",
              "  <tbody>\n",
              "    <tr>\n",
              "      <th>0</th>\n",
              "      <td>Which river does the Brooklyn Bridge cross?</td>\n",
              "      <td>¿Por qué río cruza la Brooklyn Bridge?</td>\n",
              "      <td>1.0</td>\n",
              "    </tr>\n",
              "    <tr>\n",
              "      <th>1</th>\n",
              "      <td>Give me the websites of companies with more th...</td>\n",
              "      <td>Dame todas las páginas de Web de empresas con ...</td>\n",
              "      <td>1.0</td>\n",
              "    </tr>\n",
              "    <tr>\n",
              "      <th>2</th>\n",
              "      <td>What is the official website of Tom Cruise?</td>\n",
              "      <td>¿Cuál el la página de Web oficial de Tom Cruise?</td>\n",
              "      <td>1.0</td>\n",
              "    </tr>\n",
              "    <tr>\n",
              "      <th>3</th>\n",
              "      <td>Give me all movies with Tom Cruise.</td>\n",
              "      <td>Dame todas las películas con Tom Cruise</td>\n",
              "      <td>1.0</td>\n",
              "    </tr>\n",
              "    <tr>\n",
              "      <th>4</th>\n",
              "      <td>Who created Wikipedia?</td>\n",
              "      <td>¿Quién creó Wikipedia?</td>\n",
              "      <td>1.0</td>\n",
              "    </tr>\n",
              "    <tr>\n",
              "      <th>5</th>\n",
              "      <td>How many films did Hal Roach produce?</td>\n",
              "      <td>¿Cuántas películas ha producido Hal Roach?</td>\n",
              "      <td>1.0</td>\n",
              "    </tr>\n",
              "    <tr>\n",
              "      <th>6</th>\n",
              "      <td>In which country does the Nile start?</td>\n",
              "      <td>¿En qué país nace el Nilo?</td>\n",
              "      <td>1.0</td>\n",
              "    </tr>\n",
              "    <tr>\n",
              "      <th>7</th>\n",
              "      <td>How tall is Claudia Schiffer?</td>\n",
              "      <td>¿Cómo de alta es Claudia Schiffer?</td>\n",
              "      <td>1.0</td>\n",
              "    </tr>\n",
              "    <tr>\n",
              "      <th>8</th>\n",
              "      <td>Which television shows were created by Walt Di...</td>\n",
              "      <td>¿Qué series televisivas ideó Walt Disney?</td>\n",
              "      <td>1.0</td>\n",
              "    </tr>\n",
              "    <tr>\n",
              "      <th>9</th>\n",
              "      <td>Give me all cities in New Jersey with more tha...</td>\n",
              "      <td>Dame todas las cuidades en New Jersey que teng...</td>\n",
              "      <td>1.0</td>\n",
              "    </tr>\n",
              "    <tr>\n",
              "      <th>10</th>\n",
              "      <td>Which actors were born in Germany?</td>\n",
              "      <td>¿Qué actores nacieron en Alemania?</td>\n",
              "      <td>1.0</td>\n",
              "    </tr>\n",
              "    <tr>\n",
              "      <th>11</th>\n",
              "      <td>How often was Michael Jordan divorced?</td>\n",
              "      <td>¿Cuántas veces se ha divorciado Michael Jordan?</td>\n",
              "      <td>1.0</td>\n",
              "    </tr>\n",
              "    <tr>\n",
              "      <th>12</th>\n",
              "      <td>Who designed the Brooklyn Bridge?</td>\n",
              "      <td>¿Quién diseñó la Brooklyn Bridge?</td>\n",
              "      <td>1.0</td>\n",
              "    </tr>\n",
              "    <tr>\n",
              "      <th>13</th>\n",
              "      <td>Which countries have more than two official la...</td>\n",
              "      <td>¿Qué países tienes más de dos lenguas oficiales?</td>\n",
              "      <td>1.0</td>\n",
              "    </tr>\n",
              "    <tr>\n",
              "      <th>14</th>\n",
              "      <td>When did Latvia join the EU?</td>\n",
              "      <td>¿Cuándo ingresó Letonia a la unión europea?</td>\n",
              "      <td>1.0</td>\n",
              "    </tr>\n",
              "    <tr>\n",
              "      <th>15</th>\n",
              "      <td>Who created Goofy?</td>\n",
              "      <td>¿Quién es el creador de Goofy?</td>\n",
              "      <td>1.0</td>\n",
              "    </tr>\n",
              "    <tr>\n",
              "      <th>16</th>\n",
              "      <td>Give me all soccer clubs in Spain.</td>\n",
              "      <td>Dame todos los club de fútbol de España.</td>\n",
              "      <td>1.0</td>\n",
              "    </tr>\n",
              "    <tr>\n",
              "      <th>17</th>\n",
              "      <td>Who is the mayor of New York City?</td>\n",
              "      <td>¿Quién es el alcalde de la cuidad de Nueva York?</td>\n",
              "      <td>1.0</td>\n",
              "    </tr>\n",
              "    <tr>\n",
              "      <th>18</th>\n",
              "      <td>Which organizations were founded in 1950?</td>\n",
              "      <td>¿Qué empresas fueron fundadas en 1950?</td>\n",
              "      <td>1.0</td>\n",
              "    </tr>\n",
              "    <tr>\n",
              "      <th>19</th>\n",
              "      <td>Which presidents were born in 1945?</td>\n",
              "      <td>¿Qué presidentes nacieron en 1945?</td>\n",
              "      <td>1.0</td>\n",
              "    </tr>\n",
              "  </tbody>\n",
              "</table>\n",
              "</div>"
            ],
            "text/plain": [
              "                                           input_lang  ... correctly_annotated\n",
              "0         Which river does the Brooklyn Bridge cross?  ...                 1.0\n",
              "1   Give me the websites of companies with more th...  ...                 1.0\n",
              "2         What is the official website of Tom Cruise?  ...                 1.0\n",
              "3                 Give me all movies with Tom Cruise.  ...                 1.0\n",
              "4                              Who created Wikipedia?  ...                 1.0\n",
              "5               How many films did Hal Roach produce?  ...                 1.0\n",
              "6               In which country does the Nile start?  ...                 1.0\n",
              "7                       How tall is Claudia Schiffer?  ...                 1.0\n",
              "8   Which television shows were created by Walt Di...  ...                 1.0\n",
              "9   Give me all cities in New Jersey with more tha...  ...                 1.0\n",
              "10                 Which actors were born in Germany?  ...                 1.0\n",
              "11             How often was Michael Jordan divorced?  ...                 1.0\n",
              "12                  Who designed the Brooklyn Bridge?  ...                 1.0\n",
              "13  Which countries have more than two official la...  ...                 1.0\n",
              "14                       When did Latvia join the EU?  ...                 1.0\n",
              "15                                 Who created Goofy?  ...                 1.0\n",
              "16                 Give me all soccer clubs in Spain.  ...                 1.0\n",
              "17                 Who is the mayor of New York City?  ...                 1.0\n",
              "18          Which organizations were founded in 1950?  ...                 1.0\n",
              "19                Which presidents were born in 1945?  ...                 1.0\n",
              "\n",
              "[20 rows x 3 columns]"
            ]
          },
          "metadata": {
            "tags": []
          },
          "execution_count": 402
        }
      ]
    },
    {
      "cell_type": "code",
      "metadata": {
        "id": "GnWc9Xqjogue",
        "colab_type": "code",
        "colab": {}
      },
      "source": [
        "input_list = []\n",
        "output_list = []\n",
        "for _, row in df_new.iterrows():\n",
        "  list = annotateText(row['input_lang'])\n",
        "  dict = getResourceAndEntity(list)\n",
        "  input_text,output_text = getReplacedText(row['input_lang'],row['output_lang'],dict)\n",
        "  input_list.append(input_text)\n",
        "  output_list.append(output_text)"
      ],
      "execution_count": 403,
      "outputs": []
    },
    {
      "cell_type": "code",
      "metadata": {
        "id": "Df_69bPDXiyH",
        "colab_type": "code",
        "colab": {}
      },
      "source": [
        "new_df = pd.DataFrame({\"input_lang\":input_list,\"output_lang\":output_list})"
      ],
      "execution_count": 404,
      "outputs": []
    },
    {
      "cell_type": "code",
      "metadata": {
        "id": "wbS47IFKXyCU",
        "colab_type": "code",
        "colab": {
          "base_uri": "https://localhost:8080/",
          "height": 669
        },
        "outputId": "3e82ab06-65da-4b03-a328-84a289d3ec89"
      },
      "source": [
        "new_df.head(20)"
      ],
      "execution_count": 405,
      "outputs": [
        {
          "output_type": "execute_result",
          "data": {
            "text/html": [
              "<div>\n",
              "<style scoped>\n",
              "    .dataframe tbody tr th:only-of-type {\n",
              "        vertical-align: middle;\n",
              "    }\n",
              "\n",
              "    .dataframe tbody tr th {\n",
              "        vertical-align: top;\n",
              "    }\n",
              "\n",
              "    .dataframe thead th {\n",
              "        text-align: right;\n",
              "    }\n",
              "</style>\n",
              "<table border=\"1\" class=\"dataframe\">\n",
              "  <thead>\n",
              "    <tr style=\"text-align: right;\">\n",
              "      <th></th>\n",
              "      <th>input_lang</th>\n",
              "      <th>output_lang</th>\n",
              "    </tr>\n",
              "  </thead>\n",
              "  <tbody>\n",
              "    <tr>\n",
              "      <th>0</th>\n",
              "      <td>which river does the entity cross?</td>\n",
              "      <td>¿por qué río cruza la brooklyn bridge?</td>\n",
              "    </tr>\n",
              "    <tr>\n",
              "      <th>1</th>\n",
              "      <td>give me the websites of companies with more th...</td>\n",
              "      <td>dame todas las páginas de web de empresas con ...</td>\n",
              "    </tr>\n",
              "    <tr>\n",
              "      <th>2</th>\n",
              "      <td>what is the official website of entity?</td>\n",
              "      <td>¿cuál el la página de web oficial de entidad?</td>\n",
              "    </tr>\n",
              "    <tr>\n",
              "      <th>3</th>\n",
              "      <td>give me all movies with entity.</td>\n",
              "      <td>dame todas las películas con entidad</td>\n",
              "    </tr>\n",
              "    <tr>\n",
              "      <th>4</th>\n",
              "      <td>who created entity?</td>\n",
              "      <td>¿quién creó entidad?</td>\n",
              "    </tr>\n",
              "    <tr>\n",
              "      <th>5</th>\n",
              "      <td>how many films did entity produce?</td>\n",
              "      <td>¿cuántas películas ha producido entidad?</td>\n",
              "    </tr>\n",
              "    <tr>\n",
              "      <th>6</th>\n",
              "      <td>in which country does the entity start?</td>\n",
              "      <td>¿en qué país nace el entidad?</td>\n",
              "    </tr>\n",
              "    <tr>\n",
              "      <th>7</th>\n",
              "      <td>how tall is entity?</td>\n",
              "      <td>¿cómo de alta es entidad?</td>\n",
              "    </tr>\n",
              "    <tr>\n",
              "      <th>8</th>\n",
              "      <td>which television shows were created by entity?</td>\n",
              "      <td>¿qué series televisivas ideó entidad?</td>\n",
              "    </tr>\n",
              "    <tr>\n",
              "      <th>9</th>\n",
              "      <td>give me all cities in entity with more than 10...</td>\n",
              "      <td>dame todas las cuidades en new jersey que teng...</td>\n",
              "    </tr>\n",
              "    <tr>\n",
              "      <th>10</th>\n",
              "      <td>which actors were born in entity?</td>\n",
              "      <td>¿qué actores nacieron en entidad?</td>\n",
              "    </tr>\n",
              "    <tr>\n",
              "      <th>11</th>\n",
              "      <td>how often was entity divorced?</td>\n",
              "      <td>¿cuántas veces se ha divorciado entidad?</td>\n",
              "    </tr>\n",
              "    <tr>\n",
              "      <th>12</th>\n",
              "      <td>who designed the entity?</td>\n",
              "      <td>¿quién diseñó la brooklyn bridge?</td>\n",
              "    </tr>\n",
              "    <tr>\n",
              "      <th>13</th>\n",
              "      <td>which countries have more than two official la...</td>\n",
              "      <td>¿qué países tienes más de dos lenguas oficiales?</td>\n",
              "    </tr>\n",
              "    <tr>\n",
              "      <th>14</th>\n",
              "      <td>when did entity join the entity?</td>\n",
              "      <td>¿cuándo ingresó entidad a la entidad?</td>\n",
              "    </tr>\n",
              "    <tr>\n",
              "      <th>15</th>\n",
              "      <td>who created entity?</td>\n",
              "      <td>¿quién es el creador de entidad?</td>\n",
              "    </tr>\n",
              "    <tr>\n",
              "      <th>16</th>\n",
              "      <td>give me all entity clubs in entity.</td>\n",
              "      <td>dame todos los club de entidad de entidad.</td>\n",
              "    </tr>\n",
              "    <tr>\n",
              "      <th>17</th>\n",
              "      <td>who is the entity of entity?</td>\n",
              "      <td>¿quién es el entidad de la cuidad de entidad?</td>\n",
              "    </tr>\n",
              "    <tr>\n",
              "      <th>18</th>\n",
              "      <td>which organizations were founded in 1950?</td>\n",
              "      <td>¿qué empresas fueron fundadas en 1950?</td>\n",
              "    </tr>\n",
              "    <tr>\n",
              "      <th>19</th>\n",
              "      <td>which presidents were born in 1945?</td>\n",
              "      <td>¿qué presidentes nacieron en 1945?</td>\n",
              "    </tr>\n",
              "  </tbody>\n",
              "</table>\n",
              "</div>"
            ],
            "text/plain": [
              "                                           input_lang                                        output_lang\n",
              "0                  which river does the entity cross?             ¿por qué río cruza la brooklyn bridge?\n",
              "1   give me the websites of companies with more th...  dame todas las páginas de web de empresas con ...\n",
              "2             what is the official website of entity?      ¿cuál el la página de web oficial de entidad?\n",
              "3                     give me all movies with entity.               dame todas las películas con entidad\n",
              "4                                 who created entity?                               ¿quién creó entidad?\n",
              "5                  how many films did entity produce?           ¿cuántas películas ha producido entidad?\n",
              "6             in which country does the entity start?                      ¿en qué país nace el entidad?\n",
              "7                                 how tall is entity?                          ¿cómo de alta es entidad?\n",
              "8      which television shows were created by entity?              ¿qué series televisivas ideó entidad?\n",
              "9   give me all cities in entity with more than 10...  dame todas las cuidades en new jersey que teng...\n",
              "10                  which actors were born in entity?                  ¿qué actores nacieron en entidad?\n",
              "11                     how often was entity divorced?           ¿cuántas veces se ha divorciado entidad?\n",
              "12                           who designed the entity?                  ¿quién diseñó la brooklyn bridge?\n",
              "13  which countries have more than two official la...   ¿qué países tienes más de dos lenguas oficiales?\n",
              "14                   when did entity join the entity?              ¿cuándo ingresó entidad a la entidad?\n",
              "15                                who created entity?                   ¿quién es el creador de entidad?\n",
              "16                give me all entity clubs in entity.         dame todos los club de entidad de entidad.\n",
              "17                       who is the entity of entity?      ¿quién es el entidad de la cuidad de entidad?\n",
              "18          which organizations were founded in 1950?             ¿qué empresas fueron fundadas en 1950?\n",
              "19                which presidents were born in 1945?                 ¿qué presidentes nacieron en 1945?"
            ]
          },
          "metadata": {
            "tags": []
          },
          "execution_count": 405
        }
      ]
    },
    {
      "cell_type": "code",
      "metadata": {
        "id": "gCbPPIIhogtT",
        "colab_type": "code",
        "colab": {}
      },
      "source": [
        "# new_df.to_csv('/content/drive/My Drive/data/template/en-es-test-template.csv', index=False)\n",
        "# new_df.to_csv('/content/drive/My Drive/data/template/en-es-train-template.csv', index=False)\n",
        "new_df.to_csv('/content/drive/My Drive/data/template/en-es-template.csv', index=False)"
      ],
      "execution_count": 406,
      "outputs": []
    },
    {
      "cell_type": "code",
      "metadata": {
        "id": "gHcwSkKAaKlO",
        "colab_type": "code",
        "colab": {}
      },
      "source": [
        ""
      ],
      "execution_count": 406,
      "outputs": []
    },
    {
      "cell_type": "code",
      "metadata": {
        "id": "r2JFSBMKZ_jW",
        "colab_type": "code",
        "colab": {}
      },
      "source": [
        ""
      ],
      "execution_count": 406,
      "outputs": []
    },
    {
      "cell_type": "code",
      "metadata": {
        "id": "s9ISruo6Z_hh",
        "colab_type": "code",
        "colab": {}
      },
      "source": [
        ""
      ],
      "execution_count": 406,
      "outputs": []
    }
  ]
}