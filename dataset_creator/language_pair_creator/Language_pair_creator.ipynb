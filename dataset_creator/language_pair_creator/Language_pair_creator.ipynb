{
 "cells": [
  {
   "cell_type": "code",
   "execution_count": 1,
   "metadata": {},
   "outputs": [],
   "source": [
    "import pandas as pd\n",
    "from collections import defaultdict "
   ]
  },
  {
   "cell_type": "code",
   "execution_count": 2,
   "metadata": {},
   "outputs": [],
   "source": [
    "# df3 = pd.read_csv(\"qald-3-train.csv\")\n",
    "# df4 = pd.read_csv(\"qald-4-train.csv\")\n",
    "# df5 = pd.read_csv(\"qald-5-train.csv\")\n",
    "# df6 = pd.read_csv(\"qald-6-train.csv\")\n",
    "# df7 = pd.read_csv(\"qald-7-train.csv\")\n",
    "# df8 = pd.read_csv(\"qald-8-train.csv\")\n",
    "# df9 = pd.read_csv(\"qald-9-train.csv\")\n",
    "\n",
    "df3 = pd.read_csv(\"qald-3-test.csv\")\n",
    "df4 = pd.read_csv(\"qald-4-test.csv\")\n",
    "df5 = pd.read_csv(\"qald-5-test.csv\")\n",
    "df6 = pd.read_csv(\"qald-6-test.csv\")\n",
    "df7 = pd.read_csv(\"qald-7-test.csv\")\n",
    "df8 = pd.read_csv(\"qald-8-test.csv\")\n",
    "df9 = pd.read_csv(\"qald-9-test.csv\")"
   ]
  },
  {
   "cell_type": "code",
   "execution_count": 3,
   "metadata": {},
   "outputs": [
    {
     "data": {
      "text/plain": [
       "array(['de', 'ru', 'pt', 'en', 'hi_IN', 'fa', 'pt_BR', 'it', 'fr', 'ro',\n",
       "       'es', 'nl'], dtype=object)"
      ]
     },
     "execution_count": 3,
     "metadata": {},
     "output_type": "execute_result"
    }
   ],
   "source": [
    "df9[\"lang\"].unique()"
   ]
  },
  {
   "cell_type": "code",
   "execution_count": 4,
   "metadata": {},
   "outputs": [],
   "source": [
    "lang = 'ro'"
   ]
  },
  {
   "cell_type": "code",
   "execution_count": 5,
   "metadata": {},
   "outputs": [],
   "source": [
    "pair = []\n",
    "frames = [df3,df4,df5,df6,df7,df8,df9]\n",
    "\n",
    "for df in frames:\n",
    "    dict= defaultdict(list)\n",
    "\n",
    "    for index, row in df.iterrows():\n",
    "        dict[row[\"questionId\"]].append([row[\"questions\"],row[\"lang\"]])\n",
    "\n",
    "    # dict\n",
    "\n",
    "    for key in dict:\n",
    "        arr=[]\n",
    "        for s in dict[key]:\n",
    "            if s[1]=='en':\n",
    "                arr.append(s[0])\n",
    "                en=s[0]\n",
    "            elif s[1]==lang:\n",
    "                arr.append(s[0])\n",
    "                es=s[0]\n",
    "        else:\n",
    "            if len(arr)==2:\n",
    "                pair.append([en,es])"
   ]
  },
  {
   "cell_type": "code",
   "execution_count": 6,
   "metadata": {},
   "outputs": [],
   "source": [
    "en=[]\n",
    "es=[]\n",
    "for s in pair:\n",
    "    en.append(s[0])\n",
    "    es.append(s[1])"
   ]
  },
  {
   "cell_type": "code",
   "execution_count": 7,
   "metadata": {},
   "outputs": [
    {
     "data": {
      "text/plain": [
       "392"
      ]
     },
     "execution_count": 7,
     "metadata": {},
     "output_type": "execute_result"
    }
   ],
   "source": [
    "len(en)"
   ]
  },
  {
   "cell_type": "code",
   "execution_count": 8,
   "metadata": {},
   "outputs": [],
   "source": [
    "# frames = [df3,df4,df5,df6,df7,df8,df9]\n",
    "# df = pd.concat(frames)"
   ]
  },
  {
   "cell_type": "code",
   "execution_count": 9,
   "metadata": {},
   "outputs": [],
   "source": [
    "output = pd.DataFrame({\"input_lang\":en,'output_lang': es})\n",
    "output = output.drop_duplicates(subset=None, keep='first', inplace=False)"
   ]
  },
  {
   "cell_type": "code",
   "execution_count": 10,
   "metadata": {},
   "outputs": [
    {
     "data": {
      "text/plain": [
       "(347, 2)"
      ]
     },
     "execution_count": 10,
     "metadata": {},
     "output_type": "execute_result"
    }
   ],
   "source": [
    "output.shape"
   ]
  },
  {
   "cell_type": "code",
   "execution_count": 11,
   "metadata": {},
   "outputs": [],
   "source": [
    "output.to_csv('en-'+lang+'-test.csv', index=False)"
   ]
  },
  {
   "cell_type": "code",
   "execution_count": 12,
   "metadata": {},
   "outputs": [
    {
     "data": {
      "text/html": [
       "<div>\n",
       "<style scoped>\n",
       "    .dataframe tbody tr th:only-of-type {\n",
       "        vertical-align: middle;\n",
       "    }\n",
       "\n",
       "    .dataframe tbody tr th {\n",
       "        vertical-align: top;\n",
       "    }\n",
       "\n",
       "    .dataframe thead th {\n",
       "        text-align: right;\n",
       "    }\n",
       "</style>\n",
       "<table border=\"1\" class=\"dataframe\">\n",
       "  <thead>\n",
       "    <tr style=\"text-align: right;\">\n",
       "      <th></th>\n",
       "      <th>input_lang</th>\n",
       "      <th>output_lang</th>\n",
       "    </tr>\n",
       "  </thead>\n",
       "  <tbody>\n",
       "    <tr>\n",
       "      <th>0</th>\n",
       "      <td>How many inhabitants does the largest city in ...</td>\n",
       "      <td>Câți locuitori are cel mai are oraș din Canada?</td>\n",
       "    </tr>\n",
       "    <tr>\n",
       "      <th>1</th>\n",
       "      <td>In which studio did the Beatles record their f...</td>\n",
       "      <td>În ce studio au înregistrat Beatles primul lor...</td>\n",
       "    </tr>\n",
       "    <tr>\n",
       "      <th>2</th>\n",
       "      <td>Who was the first to climb Mount Everest?</td>\n",
       "      <td>Cine a fost primul om care a escaladat muntele...</td>\n",
       "    </tr>\n",
       "    <tr>\n",
       "      <th>3</th>\n",
       "      <td>How many programming languages are there?</td>\n",
       "      <td>Câte limbaje de programare există?</td>\n",
       "    </tr>\n",
       "    <tr>\n",
       "      <th>4</th>\n",
       "      <td>What is the official color of the University o...</td>\n",
       "      <td>Care este culoarea oficială a Universității Ox...</td>\n",
       "    </tr>\n",
       "  </tbody>\n",
       "</table>\n",
       "</div>"
      ],
      "text/plain": [
       "                                          input_lang  \\\n",
       "0  How many inhabitants does the largest city in ...   \n",
       "1  In which studio did the Beatles record their f...   \n",
       "2          Who was the first to climb Mount Everest?   \n",
       "3          How many programming languages are there?   \n",
       "4  What is the official color of the University o...   \n",
       "\n",
       "                                         output_lang  \n",
       "0    Câți locuitori are cel mai are oraș din Canada?  \n",
       "1  În ce studio au înregistrat Beatles primul lor...  \n",
       "2  Cine a fost primul om care a escaladat muntele...  \n",
       "3                 Câte limbaje de programare există?  \n",
       "4  Care este culoarea oficială a Universității Ox...  "
      ]
     },
     "execution_count": 12,
     "metadata": {},
     "output_type": "execute_result"
    }
   ],
   "source": [
    "output.head()"
   ]
  },
  {
   "cell_type": "code",
   "execution_count": null,
   "metadata": {},
   "outputs": [],
   "source": []
  },
  {
   "cell_type": "code",
   "execution_count": null,
   "metadata": {},
   "outputs": [],
   "source": []
  },
  {
   "cell_type": "code",
   "execution_count": null,
   "metadata": {},
   "outputs": [],
   "source": []
  },
  {
   "cell_type": "code",
   "execution_count": null,
   "metadata": {},
   "outputs": [],
   "source": []
  },
  {
   "cell_type": "code",
   "execution_count": null,
   "metadata": {},
   "outputs": [],
   "source": []
  },
  {
   "cell_type": "code",
   "execution_count": null,
   "metadata": {},
   "outputs": [],
   "source": []
  }
 ],
 "metadata": {
  "kernelspec": {
   "display_name": "Python 3",
   "language": "python",
   "name": "python3"
  },
  "language_info": {
   "codemirror_mode": {
    "name": "ipython",
    "version": 3
   },
   "file_extension": ".py",
   "mimetype": "text/x-python",
   "name": "python",
   "nbconvert_exporter": "python",
   "pygments_lexer": "ipython3",
   "version": "3.7.7"
  }
 },
 "nbformat": 4,
 "nbformat_minor": 4
}
